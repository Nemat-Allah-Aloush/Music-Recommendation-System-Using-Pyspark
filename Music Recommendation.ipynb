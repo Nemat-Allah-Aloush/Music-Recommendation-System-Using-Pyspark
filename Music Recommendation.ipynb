{
  "cells": [
    {
      "cell_type": "markdown",
      "metadata": {
        "id": "uixRc0XtrHuj"
      },
      "source": [
        "# **WELCOME TO THIS NOTEBOOK**"
      ]
    },
    {
      "cell_type": "code",
      "execution_count": null,
      "metadata": {
        "colab": {
          "base_uri": "https://localhost:8080/"
        },
        "id": "yXc5QjksS5hf",
        "outputId": "c6c3fec3-cb52-41dc-fb3d-0589a3b7add7",
        "vscode": {
          "languageId": "python"
        }
      },
      "outputs": [
        {
          "name": "stdout",
          "output_type": "stream",
          "text": [
            "Mounted at /content/drive\n"
          ]
        }
      ],
      "source": [
        "from google.colab import drive\n",
        "drive.mount('/content/drive')"
      ]
    },
    {
      "cell_type": "markdown",
      "metadata": {
        "id": "hMZ64UxxrMvL"
      },
      "source": [
        "Let's install pyspark"
      ]
    },
    {
      "cell_type": "code",
      "execution_count": null,
      "metadata": {
        "colab": {
          "base_uri": "https://localhost:8080/"
        },
        "id": "Dal3Np2Imn8u",
        "outputId": "7c19c0c5-2d38-4496-a38d-40b29f2d5c14",
        "vscode": {
          "languageId": "python"
        }
      },
      "outputs": [
        {
          "name": "stdout",
          "output_type": "stream",
          "text": [
            "Collecting pyspark\n",
            "  Downloading pyspark-3.2.1.tar.gz (281.4 MB)\n",
            "\u001b[K     |████████████████████████████████| 281.4 MB 31 kB/s \n",
            "\u001b[?25hCollecting py4j==0.10.9.3\n",
            "  Downloading py4j-0.10.9.3-py2.py3-none-any.whl (198 kB)\n",
            "\u001b[K     |████████████████████████████████| 198 kB 47.6 MB/s \n",
            "\u001b[?25hBuilding wheels for collected packages: pyspark\n",
            "  Building wheel for pyspark (setup.py) ... \u001b[?25l\u001b[?25hdone\n",
            "  Created wheel for pyspark: filename=pyspark-3.2.1-py2.py3-none-any.whl size=281853642 sha256=518a691181f8bb812b2ca4d6645d7caf2bf7b99279adb1304f8c261a52974bf6\n",
            "  Stored in directory: /root/.cache/pip/wheels/9f/f5/07/7cd8017084dce4e93e84e92efd1e1d5334db05f2e83bcef74f\n",
            "Successfully built pyspark\n",
            "Installing collected packages: py4j, pyspark\n",
            "Successfully installed py4j-0.10.9.3 pyspark-3.2.1\n"
          ]
        }
      ],
      "source": [
        "!pip install pyspark"
      ]
    },
    {
      "cell_type": "markdown",
      "metadata": {
        "id": "eK9D-CNgru_s"
      },
      "source": [
        "Importing the modules"
      ]
    },
    {
      "cell_type": "code",
      "execution_count": null,
      "metadata": {
        "id": "Z_cmzia9nA1W",
        "vscode": {
          "languageId": "python"
        }
      },
      "outputs": [],
      "source": [
        "from pyspark.sql import SparkSession\n",
        "from pyspark.sql.functions import count, desc , col, max\n",
        "from pyspark.ml.feature import  StringIndexer\n",
        "from pyspark.ml import Pipeline\n",
        "from pyspark.ml.recommendation import ALS\n",
        "from pyspark.ml.tuning import TrainValidationSplit, ParamGridBuilder"
      ]
    },
    {
      "cell_type": "markdown",
      "metadata": {
        "id": "pjM5P6b0rVpH"
      },
      "source": [
        "Creating the spark session\n"
      ]
    },
    {
      "cell_type": "code",
      "execution_count": null,
      "metadata": {
        "id": "gvSzI0zMn4Hk",
        "vscode": {
          "languageId": "python"
        }
      },
      "outputs": [],
      "source": [
        "spark = SparkSession.builder.appName(\"lastfm\").getOrCreate()"
      ]
    },
    {
      "cell_type": "markdown",
      "metadata": {
        "id": "KnyYdMVmnkp5"
      },
      "source": [
        "# Loading the dataset"
      ]
    },
    {
      "cell_type": "markdown",
      "metadata": {
        "id": "9Rdf5iKKUvUK"
      },
      "source": [
        "The dataset is 4GB size. In each row iwe can see information about a specific user and a specific track they have listend to, in addition to the artist and the album of the track, and the date of listening."
      ]
    },
    {
      "cell_type": "code",
      "execution_count": null,
      "metadata": {
        "colab": {
          "base_uri": "https://localhost:8080/"
        },
        "id": "PywJeVgDngVd",
        "outputId": "35a759a0-fd80-48e2-dd01-8bd696f0953a",
        "vscode": {
          "languageId": "python"
        }
      },
      "outputs": [
        {
          "name": "stdout",
          "output_type": "stream",
          "text": [
            "+-----------+-------------+--------------------+---------------+--------------------+\n",
            "|    user_id|         date|               track|         artist|               album|\n",
            "+-----------+-------------+--------------------+---------------+--------------------+\n",
            "|000Silenced|1299680100000|           Price Tag|       Jessie J|         Who You Are|\n",
            "|000Silenced|1299679920000|Price Tag (Acoust...|       Jessie J|           Price Tag|\n",
            "|000Silenced|1299679440000|Be Mine! (Ballad ...|          Robyn|            Be Mine!|\n",
            "|000Silenced|1299679200000|            Acapella|          Kelis|            Acapella|\n",
            "|000Silenced|1299675660000|   I'm Not Invisible|      The Tease|   I'm Not Invisible|\n",
            "|000Silenced|1297511400000|Bounce (Feat NORE...|       MSTRKRFT|         Fist of God|\n",
            "|000Silenced|1294498440000|Don't Stop The Mu...|        Rihanna|Addicted 2 Bassli...|\n",
            "|000Silenced|1292438340000|               ObZen|      Meshuggah|               ObZen|\n",
            "|000Silenced|1292437740000|   Yama's Messengers|         Gojira|The Way of All Flesh|\n",
            "|000Silenced|1292436360000|On the Brink of E...|   Napalm Death|Time Waits For No...|\n",
            "|000Silenced|1292436360000|On the Brink of E...|   Napalm Death|Time Waits For No...|\n",
            "|000Silenced|1292435940000|        In Deference|   Napalm Death|      Smear Campaign|\n",
            "|000Silenced|1292434920000|      Post(?)organic|    Decapitated|Organic Hallucinosis|\n",
            "|000Silenced|1292434560000|        Mind Feeders|   Dom & Roland| No Strings Attached|\n",
            "|000Silenced|1292434320000|Necrosadistic War...|Cannibal Corpse|                Kill|\n",
            "|000Silenced|1292365560000|     Dance All Night|   Dom & Roland|          Chronology|\n",
            "|000Silenced|1292365260000|          Late Night|   Dom & Roland|          Chronology|\n",
            "|000Silenced|1292365020000|          Freak Seen|   Dom & Roland|          Chronology|\n",
            "|000Silenced|1292364720000|Paradrenasite (Hi...|   Dom & Roland|          Chronology|\n",
            "|000Silenced|1292364300000|               Rhino|   Dom & Roland|          Chronology|\n",
            "+-----------+-------------+--------------------+---------------+--------------------+\n",
            "only showing top 20 rows\n",
            "\n"
          ]
        }
      ],
      "source": [
        "file_path=\"/content/drive/MyDrive/dataset/listenings.csv\"\n",
        "df_listening = spark.read.format('csv').option('header',True).option('inferSchema',True).load(file_path) # inferSchema : this option will infer column types based on the dataset \n",
        "df_listening.show()"
      ]
    },
    {
      "cell_type": "markdown",
      "metadata": {
        "id": "YUHBP0yjoJvc"
      },
      "source": [
        "\n",
        "# Cleaning tables "
      ]
    },
    {
      "cell_type": "code",
      "execution_count": null,
      "metadata": {
        "colab": {
          "base_uri": "https://localhost:8080/"
        },
        "id": "N8luDo3HndTb",
        "outputId": "6f6b07d8-de70-483c-e144-b04664aad102",
        "vscode": {
          "languageId": "python"
        }
      },
      "outputs": [
        {
          "name": "stdout",
          "output_type": "stream",
          "text": [
            "+-----------+--------------------+---------------+--------------------+\n",
            "|    user_id|               track|         artist|               album|\n",
            "+-----------+--------------------+---------------+--------------------+\n",
            "|000Silenced|           Price Tag|       Jessie J|         Who You Are|\n",
            "|000Silenced|Price Tag (Acoust...|       Jessie J|           Price Tag|\n",
            "|000Silenced|Be Mine! (Ballad ...|          Robyn|            Be Mine!|\n",
            "|000Silenced|            Acapella|          Kelis|            Acapella|\n",
            "|000Silenced|   I'm Not Invisible|      The Tease|   I'm Not Invisible|\n",
            "|000Silenced|Bounce (Feat NORE...|       MSTRKRFT|         Fist of God|\n",
            "|000Silenced|Don't Stop The Mu...|        Rihanna|Addicted 2 Bassli...|\n",
            "|000Silenced|               ObZen|      Meshuggah|               ObZen|\n",
            "|000Silenced|   Yama's Messengers|         Gojira|The Way of All Flesh|\n",
            "|000Silenced|On the Brink of E...|   Napalm Death|Time Waits For No...|\n",
            "|000Silenced|On the Brink of E...|   Napalm Death|Time Waits For No...|\n",
            "|000Silenced|        In Deference|   Napalm Death|      Smear Campaign|\n",
            "|000Silenced|      Post(?)organic|    Decapitated|Organic Hallucinosis|\n",
            "|000Silenced|        Mind Feeders|   Dom & Roland| No Strings Attached|\n",
            "|000Silenced|Necrosadistic War...|Cannibal Corpse|                Kill|\n",
            "|000Silenced|     Dance All Night|   Dom & Roland|          Chronology|\n",
            "|000Silenced|          Late Night|   Dom & Roland|          Chronology|\n",
            "|000Silenced|          Freak Seen|   Dom & Roland|          Chronology|\n",
            "|000Silenced|Paradrenasite (Hi...|   Dom & Roland|          Chronology|\n",
            "|000Silenced|               Rhino|   Dom & Roland|          Chronology|\n",
            "+-----------+--------------------+---------------+--------------------+\n",
            "only showing top 20 rows\n",
            "\n"
          ]
        }
      ],
      "source": [
        "# dropping date colomn\n",
        "df_listening= df_listening.drop('date')\n",
        "df_listening.show()"
      ]
    },
    {
      "cell_type": "code",
      "execution_count": null,
      "metadata": {
        "colab": {
          "base_uri": "https://localhost:8080/"
        },
        "id": "5rDadwmpowII",
        "outputId": "b6ca9bec-637e-42ac-8090-31680d4bded4",
        "vscode": {
          "languageId": "python"
        }
      },
      "outputs": [
        {
          "name": "stdout",
          "output_type": "stream",
          "text": [
            "+-----------+--------------------+---------------+--------------------+\n",
            "|    user_id|               track|         artist|               album|\n",
            "+-----------+--------------------+---------------+--------------------+\n",
            "|000Silenced|           Price Tag|       Jessie J|         Who You Are|\n",
            "|000Silenced|Price Tag (Acoust...|       Jessie J|           Price Tag|\n",
            "|000Silenced|Be Mine! (Ballad ...|          Robyn|            Be Mine!|\n",
            "|000Silenced|            Acapella|          Kelis|            Acapella|\n",
            "|000Silenced|   I'm Not Invisible|      The Tease|   I'm Not Invisible|\n",
            "|000Silenced|Bounce (Feat NORE...|       MSTRKRFT|         Fist of God|\n",
            "|000Silenced|Don't Stop The Mu...|        Rihanna|Addicted 2 Bassli...|\n",
            "|000Silenced|               ObZen|      Meshuggah|               ObZen|\n",
            "|000Silenced|   Yama's Messengers|         Gojira|The Way of All Flesh|\n",
            "|000Silenced|On the Brink of E...|   Napalm Death|Time Waits For No...|\n",
            "|000Silenced|On the Brink of E...|   Napalm Death|Time Waits For No...|\n",
            "|000Silenced|        In Deference|   Napalm Death|      Smear Campaign|\n",
            "|000Silenced|      Post(?)organic|    Decapitated|Organic Hallucinosis|\n",
            "|000Silenced|        Mind Feeders|   Dom & Roland| No Strings Attached|\n",
            "|000Silenced|Necrosadistic War...|Cannibal Corpse|                Kill|\n",
            "|000Silenced|     Dance All Night|   Dom & Roland|          Chronology|\n",
            "|000Silenced|          Late Night|   Dom & Roland|          Chronology|\n",
            "|000Silenced|          Freak Seen|   Dom & Roland|          Chronology|\n",
            "|000Silenced|Paradrenasite (Hi...|   Dom & Roland|          Chronology|\n",
            "|000Silenced|               Rhino|   Dom & Roland|          Chronology|\n",
            "+-----------+--------------------+---------------+--------------------+\n",
            "only showing top 20 rows\n",
            "\n"
          ]
        }
      ],
      "source": [
        "# Deleting Nan values\n",
        "df_listening=df_listening.na.drop()\n",
        "df_listening.show()"
      ]
    },
    {
      "cell_type": "code",
      "execution_count": null,
      "metadata": {
        "colab": {
          "base_uri": "https://localhost:8080/"
        },
        "id": "DqfEbgpwV-sT",
        "outputId": "7b61094a-f5e5-4b58-ba51-3d6ba0764397",
        "vscode": {
          "languageId": "python"
        }
      },
      "outputs": [
        {
          "name": "stdout",
          "output_type": "stream",
          "text": [
            "13758905 4\n"
          ]
        }
      ],
      "source": [
        "# Checking the shape of the dataframe : (13758905 *4)\n",
        "row_count=df_listening.count()\n",
        "column_count=len(df_listening.columns) #.columns: Returns all column names as a list.\n",
        "print(row_count, column_count)"
      ]
    },
    {
      "cell_type": "markdown",
      "metadata": {
        "id": "cyf1XITGpMWV"
      },
      "source": [
        "\n",
        "# Let's Perform some aggregation\n",
        "to see how many times each user has listened to specific track\n"
      ]
    },
    {
      "cell_type": "code",
      "execution_count": null,
      "metadata": {
        "colab": {
          "base_uri": "https://localhost:8080/"
        },
        "id": "PeH7vYKEoyWa",
        "outputId": "31614389-649c-4fb8-a91f-d4900489326e",
        "vscode": {
          "languageId": "python"
        }
      },
      "outputs": [
        {
          "name": "stdout",
          "output_type": "stream",
          "text": [
            "+-------+--------------------+-----+\n",
            "|user_id|               track|count|\n",
            "+-------+--------------------+-----+\n",
            "| --Seph|               Leloo|    1|\n",
            "| --Seph|         The Embrace|    1|\n",
            "| --Seph|          Paris 2004|    7|\n",
            "| --Seph|Chelsea Hotel - L...|    1|\n",
            "| --Seph|               Julia|    1|\n",
            "| --Seph|In the Nothing of...|    2|\n",
            "| --Seph|          I Miss You|    1|\n",
            "| --Seph| The Riders of Rohan|    1|\n",
            "| --Seph|Sunset Soon Forgo...|    1|\n",
            "| --Seph|   Barbados Carnival|    1|\n",
            "| --Seph|      Fragile Meadow|    1|\n",
            "| --Seph|          Stupid Kid|    1|\n",
            "| --Seph|Every Direction I...|    2|\n",
            "| --Seph|         If It Works|    1|\n",
            "| --Seph|           So Lonely|    2|\n",
            "| --Seph|    Kiss with a Fist|    1|\n",
            "| --Seph|             Starman|    2|\n",
            "| --Seph|         Left Behind|    2|\n",
            "| --Seph|   Duel of the Fates|    1|\n",
            "| --Seph|       Pressure Drop|    1|\n",
            "+-------+--------------------+-----+\n",
            "only showing top 20 rows\n",
            "\n"
          ]
        }
      ],
      "source": [
        "df_listening_agg = df_listening.select('user_id','track').groupby('user_id','track').agg(count('*').alias('count')).orderBy('user_id')\n",
        "df_listening_agg.show()"
      ]
    },
    {
      "cell_type": "code",
      "execution_count": null,
      "metadata": {
        "colab": {
          "base_uri": "https://localhost:8080/"
        },
        "id": "RhVz-SvapIyr",
        "outputId": "cc839c4c-bef2-4731-fd7c-c9822e951f0c",
        "vscode": {
          "languageId": "python"
        }
      },
      "outputs": [
        {
          "name": "stdout",
          "output_type": "stream",
          "text": [
            "9930128 3\n"
          ]
        }
      ],
      "source": [
        "# Checking the shape of the dataframe : ( 9930128*3)\n",
        "row_count_agg=df_listening_agg.count()\n",
        "column_count_agg=len(df_listening_agg.columns) #.columns: Returns all column names as a list.\n",
        "print(row_count_agg, column_count_agg)"
      ]
    },
    {
      "cell_type": "code",
      "execution_count": null,
      "metadata": {
        "id": "KsTXVsO7I7Jw",
        "vscode": {
          "languageId": "python"
        }
      },
      "outputs": [],
      "source": [
        " # take a sample of the dataframe\n",
        " df_listening_agg = df_listening_agg.limit(20000)"
      ]
    },
    {
      "cell_type": "markdown",
      "metadata": {
        "id": "vuebvg7UqzsO"
      },
      "source": [
        "# Let's convert the user id and track columns into unique integers\n",
        "\n",
        "\n"
      ]
    },
    {
      "cell_type": "code",
      "execution_count": null,
      "metadata": {
        "id": "F9RSpj3DN6aX",
        "vscode": {
          "languageId": "python"
        }
      },
      "outputs": [],
      "source": [
        "# stringindexer is a transformer that maps string values to unique numeric indices\n",
        "# we perform it on user and track columns\n",
        "# 1.Defining the indexer (transformer)\n",
        "indexer = [StringIndexer(inputCol=col, outputCol=col+'_index').setHandleInvalid(\"keep\").fit(df_listening_agg) for col in list(set(df_listening_agg.columns)-set(['count']))]"
      ]
    },
    {
      "cell_type": "code",
      "execution_count": null,
      "metadata": {
        "colab": {
          "base_uri": "https://localhost:8080/"
        },
        "id": "-yK0uyVjdAuA",
        "outputId": "ca9b2dd5-2610-4b9b-8f83-515f9780493c",
        "vscode": {
          "languageId": "python"
        }
      },
      "outputs": [
        {
          "name": "stdout",
          "output_type": "stream",
          "text": [
            "+-------+--------------------+-----+-------------+-----------+\n",
            "|user_id|               track|count|user_id_index|track_index|\n",
            "+-------+--------------------+-----+-------------+-----------+\n",
            "| --Seph|          Nightmares|    1|         69.0|    10600.0|\n",
            "| --Seph|Virus (Luke Fair ...|    1|         69.0|    15893.0|\n",
            "| --Seph|Airplanes [feat H...|    1|         69.0|      521.0|\n",
            "| --Seph|Belina (Original ...|    1|         69.0|     3280.0|\n",
            "| --Seph|              Monday|    1|         69.0|      334.0|\n",
            "| --Seph|Hungarian Dance No 5|    1|         69.0|     7555.0|\n",
            "| --Seph|       Life On Mars?|    1|         69.0|     1164.0|\n",
            "| --Seph|  California Waiting|    1|         69.0|      195.0|\n",
            "| --Seph|       Phantom Pt II|    1|         69.0|     1378.0|\n",
            "| --Seph|   Summa for Strings|    1|         69.0|    13737.0|\n",
            "| --Seph|      Hour for magic|    2|         69.0|     7492.0|\n",
            "| --Seph|Hungarian Rhapsod...|    1|         69.0|     7556.0|\n",
            "| --Seph|     The Way We Were|    1|         69.0|    14958.0|\n",
            "| --Seph| Air on the G String|    1|         69.0|     2456.0|\n",
            "| --Seph|Vestido Estampado...|    1|         69.0|    15847.0|\n",
            "| --Seph|        Window Blues|    1|         69.0|     1841.0|\n",
            "| --Seph| White Winter Hymnal|    3|         69.0|       59.0|\n",
            "| --Seph|         The Embrace|    1|         69.0|    14386.0|\n",
            "| --Seph|          Paris 2004|    7|         69.0|    11311.0|\n",
            "| --Seph|Chelsea Hotel - L...|    1|         69.0|     4183.0|\n",
            "+-------+--------------------+-----+-------------+-----------+\n",
            "only showing top 20 rows\n",
            "\n"
          ]
        }
      ],
      "source": [
        "# create the pipeline with the indexer to pass the dataframe and transform the 2 columns\n",
        "pipeline=Pipeline(stages=indexer)\n",
        "data=pipeline.fit(df_listening_agg).transform(df_listening_agg)\n",
        "data.show()"
      ]
    },
    {
      "cell_type": "code",
      "execution_count": null,
      "metadata": {
        "id": "efL-hiR-q-AO",
        "vscode": {
          "languageId": "python"
        }
      },
      "outputs": [],
      "source": [
        "# selecting the columns with the indices and the count column\n",
        "data=data.select('user_id_index','track_index','count').orderBy('user_id_index')"
      ]
    },
    {
      "cell_type": "code",
      "execution_count": null,
      "metadata": {
        "colab": {
          "base_uri": "https://localhost:8080/"
        },
        "id": "OfKtj2ojrKae",
        "outputId": "c657b897-ea45-4d1e-92ef-5570af67cbd5",
        "vscode": {
          "languageId": "python"
        }
      },
      "outputs": [
        {
          "name": "stdout",
          "output_type": "stream",
          "text": [
            "+-------+--------------------+-----+-------------+-----------+\n",
            "|user_id|               track|count|user_id_index|track_index|\n",
            "+-------+--------------------+-----+-------------+-----------+\n",
            "| --Seph|          Nightmares|    1|         69.0|    10600.0|\n",
            "| --Seph|Virus (Luke Fair ...|    1|         69.0|    15893.0|\n",
            "| --Seph|Airplanes [feat H...|    1|         69.0|      521.0|\n",
            "| --Seph|Belina (Original ...|    1|         69.0|     3280.0|\n",
            "| --Seph|              Monday|    1|         69.0|      334.0|\n",
            "| --Seph|Hungarian Dance No 5|    1|         69.0|     7555.0|\n",
            "| --Seph|       Life On Mars?|    1|         69.0|     1164.0|\n",
            "| --Seph|  California Waiting|    1|         69.0|      195.0|\n",
            "| --Seph|       Phantom Pt II|    1|         69.0|     1378.0|\n",
            "| --Seph|   Summa for Strings|    1|         69.0|    13737.0|\n",
            "| --Seph|      Hour for magic|    2|         69.0|     7492.0|\n",
            "| --Seph|Hungarian Rhapsod...|    1|         69.0|     7556.0|\n",
            "| --Seph|     The Way We Were|    1|         69.0|    14958.0|\n",
            "| --Seph| Air on the G String|    1|         69.0|     2456.0|\n",
            "| --Seph|Vestido Estampado...|    1|         69.0|    15847.0|\n",
            "| --Seph|        Window Blues|    1|         69.0|     1841.0|\n",
            "| --Seph| White Winter Hymnal|    3|         69.0|       59.0|\n",
            "| --Seph|         The Embrace|    1|         69.0|    14386.0|\n",
            "| --Seph|          Paris 2004|    7|         69.0|    11311.0|\n",
            "| --Seph|Chelsea Hotel - L...|    1|         69.0|     4183.0|\n",
            "+-------+--------------------+-----+-------------+-----------+\n",
            "only showing top 20 rows\n",
            "\n"
          ]
        }
      ],
      "source": [
        "data.show()"
      ]
    },
    {
      "cell_type": "markdown",
      "metadata": {
        "id": "IEwviAxXsHwN"
      },
      "source": [
        "# Train and Test data"
      ]
    },
    {
      "cell_type": "code",
      "execution_count": null,
      "metadata": {
        "id": "DRgu2p-PsYUw",
        "vscode": {
          "languageId": "python"
        }
      },
      "outputs": [],
      "source": [
        "# splitting the training and testing dataset\n",
        "(training, test) = data.randomSplit([0.5,0.5])\n"
      ]
    },
    {
      "cell_type": "markdown",
      "metadata": {
        "id": "M46wV6Gusdi5"
      },
      "source": [
        "# Let's Create our Model"
      ]
    },
    {
      "cell_type": "code",
      "execution_count": null,
      "metadata": {
        "id": "bwPk25M3sfRu",
        "vscode": {
          "languageId": "python"
        }
      },
      "outputs": [],
      "source": [
        "USERID='user_id_index'\n",
        "TRACK='track_index'\n",
        "COUNT='count'\n",
        "# als is an iterative algorithm, we are supposed to select the number of iteration\n",
        "als=ALS(maxIter=5, regParam=0.01,userCol=USERID,itemCol=TRACK,ratingCol=COUNT)\n",
        "# this recommendation system based on the number of times each user has listened to a song \n",
        "model=als.fit(training) # creating the model\n",
        "# make predections\n",
        "predictions=model.transform(test)"
      ]
    },
    {
      "cell_type": "markdown",
      "metadata": {
        "id": "lqBkLowzsoj8"
      },
      "source": [
        "\n",
        "# Generate top 10 Track recommendations for each user"
      ]
    },
    {
      "cell_type": "code",
      "execution_count": null,
      "metadata": {
        "colab": {
          "base_uri": "https://localhost:8080/"
        },
        "id": "00mtv7XUsZGg",
        "outputId": "b1af7080-0317-499b-c05d-92255f3dd9a5",
        "vscode": {
          "languageId": "python"
        }
      },
      "outputs": [
        {
          "name": "stderr",
          "output_type": "stream",
          "text": [
            "/usr/local/lib/python3.7/dist-packages/pyspark/sql/context.py:127: FutureWarning: Deprecated in 3.0.0. Use SparkSession.builder.getOrCreate() instead.\n",
            "  FutureWarning\n"
          ]
        }
      ],
      "source": [
        "# find 10 recomendations for each user\n",
        "recs = model.recommendForAllUsers(10)"
      ]
    },
    {
      "cell_type": "code",
      "execution_count": null,
      "metadata": {
        "colab": {
          "base_uri": "https://localhost:8080/"
        },
        "id": "_EQnSUh3ncar",
        "outputId": "98fd58b5-ab70-42e6-f4c7-c283a947d885",
        "vscode": {
          "languageId": "python"
        }
      },
      "outputs": [
        {
          "name": "stdout",
          "output_type": "stream",
          "text": [
            "+-------------+--------------------+\n",
            "|user_id_index|     recommendations|\n",
            "+-------------+--------------------+\n",
            "|            0|[{4460, 15.162046...|\n",
            "|            1|[{180, 9.605092},...|\n",
            "|            2|[{16908, 12.95268...|\n",
            "|            3|[{461, 7.79856}, ...|\n",
            "|            4|[{7847, 9.112072}...|\n",
            "|            5|[{13401, 5.726028...|\n",
            "|            6|[{1739, 11.786427...|\n",
            "|            7|[{7847, 6.070025}...|\n",
            "|            8|[{16908, 12.66082...|\n",
            "|            9|[{1739, 13.227573...|\n",
            "|           10|[{233, 7.2070556}...|\n",
            "|           11|[{4460, 8.276293}...|\n",
            "|           12|[{4460, 10.907128...|\n",
            "|           13|[{461, 7.066088},...|\n",
            "|           14|[{1694, 7.20497},...|\n",
            "|           15|[{2485, 10.753057...|\n",
            "|           16|[{2380, 5.5988297...|\n",
            "|           17|[{1694, 9.510003}...|\n",
            "|           18|[{2485, 9.491067}...|\n",
            "|           19|[{16908, 21.60408...|\n",
            "+-------------+--------------------+\n",
            "only showing top 20 rows\n",
            "\n"
          ]
        }
      ],
      "source": [
        "recs.show()"
      ]
    },
    {
      "cell_type": "code",
      "execution_count": null,
      "metadata": {
        "colab": {
          "base_uri": "https://localhost:8080/"
        },
        "id": "stUaAoKpTgqT",
        "outputId": "d615c720-8eb9-4418-bc1b-f230bf4076e3",
        "vscode": {
          "languageId": "python"
        }
      },
      "outputs": [
        {
          "data": {
            "text/plain": [
              "[Row(user_id_index=0, recommendations=[Row(track_index=4460, rating=15.162046432495117), Row(track_index=16908, rating=12.427143096923828), Row(track_index=304, rating=10.761274337768555), Row(track_index=308, rating=9.741501808166504), Row(track_index=9498, rating=9.52747631072998), Row(track_index=84, rating=9.447318077087402), Row(track_index=120, rating=9.330489158630371), Row(track_index=461, rating=8.363097190856934), Row(track_index=1439, rating=8.035255432128906), Row(track_index=1122, rating=7.639596462249756)])]"
            ]
          },
          "execution_count": 35,
          "metadata": {},
          "output_type": "execute_result"
        }
      ],
      "source": [
        "# show recommends for one user\n",
        "recs.take(1)"
      ]
    },
    {
      "cell_type": "code",
      "execution_count": null,
      "metadata": {
        "id": "vvaEzU5ImJ8L",
        "vscode": {
          "languageId": "python"
        }
      },
      "outputs": [],
      "source": [
        "# Finished )"
      ]
    }
  ],
  "metadata": {
    "colab": {
      "collapsed_sections": [],
      "name": "The_notebook.ipynb",
      "provenance": []
    },
    "kernelspec": {
      "display_name": "Python 3",
      "name": "python3"
    }
  },
  "nbformat": 4,
  "nbformat_minor": 0
}
